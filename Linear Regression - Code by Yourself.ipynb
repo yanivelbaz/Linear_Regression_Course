{
 "cells": [
  {
   "cell_type": "code",
   "execution_count": null,
   "metadata": {
    "collapsed": true
   },
   "outputs": [],
   "source": [
    "class MyModel : \n",
    "    def predict(self, X) :\n",
    "        return X.dot(self.w)\n",
    "    \n",
    "    def fit(self, X, Y, eta, T) :\n",
    "        self.w = np.random.randn(X.shape[1])\n",
    "        for _ in range(T) : \n",
    "            Y_hat = self.predict(X)\n",
    "            self.w = self.w - eta*X.T.dot(Y_hat - Y)\n",
    "            \n",
    "    def cost(self, X, Y) : \n",
    "        Y_hat = self.predict(X)\n",
    "        return (Y_hat - Y).dot(Y_hat - Y)\n",
    "    \n",
    "X, Y = load_my_dataset()\n",
    "model = MyModel()\n",
    "model.fit(X,Y)\n",
    "        "
   ]
  }
 ],
 "metadata": {
  "kernelspec": {
   "display_name": "Python 3",
   "language": "python",
   "name": "python3"
  },
  "language_info": {
   "codemirror_mode": {
    "name": "ipython",
    "version": 3
   },
   "file_extension": ".py",
   "mimetype": "text/x-python",
   "name": "python",
   "nbconvert_exporter": "python",
   "pygments_lexer": "ipython3",
   "version": "3.6.3"
  }
 },
 "nbformat": 4,
 "nbformat_minor": 2
}
