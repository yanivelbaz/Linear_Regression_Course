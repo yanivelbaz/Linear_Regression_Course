{
 "cells": [
  {
   "cell_type": "code",
   "execution_count": 17,
   "metadata": {},
   "outputs": [
    {
     "data": {
      "image/png": "[encoded data removed]",
      "text/plain": [
       "<matplotlib.figure.Figure at 0xbf45160>"
      ]
     },
     "metadata": {},
     "output_type": "display_data"
    },
    {
     "name": "stdout",
     "output_type": "stream",
     "text": [
      "r2 w/ noise 0.976945807714\n",
      "r2 w/o noise 0.97684710415\n"
     ]
    }
   ],
   "source": [
    "import numpy as np\n",
    "import pandas as pd\n",
    "import matplotlib.pyplot as plt\n",
    "%matplotlib inline\n",
    "\n",
    "df = pd.read_excel('linear_regression_class/mlr02_noise.xls')\n",
    "X = df.as_matrix()\n",
    "\n",
    "plt.scatter(X[:,3], X[:,0])\n",
    "plt.show()\n",
    "\n",
    "df['ones'] = 1\n",
    "X = df[['X2', 'X3', 'Noise', 'ones']]\n",
    "X23only = df[['X2', 'X3', 'ones']]\n",
    "Y = df['X1']\n",
    "\n",
    "def get_r2(X, Y) : \n",
    "    w = np.linalg.solve(X.T.dot(X), X.T.dot(Y))\n",
    "    Yhat = X.dot(w)\n",
    "    d1 = Y - Yhat\n",
    "    d2 = Y - Y.mean()\n",
    "    r2 = 1 - d1.dot(d1) / d2.dot(d2)\n",
    "    return r2\n",
    "\n",
    "\n",
    "print('r2 w/ noise', get_r2(X, Y))\n",
    "print('r2 w/o noise', get_r2(X23only, Y))\n",
    "    \n"
   ]
  },
  {
   "cell_type": "code",
   "execution_count": null,
   "metadata": {
    "collapsed": true
   },
   "outputs": [],
   "source": []
  }
 ],
 "metadata": {
  "kernelspec": {
   "display_name": "Python 3",
   "language": "python",
   "name": "python3"
  },
  "language_info": {
   "codemirror_mode": {
    "name": "ipython",
    "version": 3
   },
   "file_extension": ".py",
   "mimetype": "text/x-python",
   "name": "python",
   "nbconvert_exporter": "python",
   "pygments_lexer": "ipython3",
   "version": "3.6.3"
  }
 },
 "nbformat": 4,
 "nbformat_minor": 2
}
