{
 "cells": [
  {
   "cell_type": "code",
   "execution_count": 2,
   "metadata": {},
   "outputs": [
    {
     "data": {
      "image/png": "[encoded data removed]",
      "text/plain": [
       "<matplotlib.figure.Figure at 0x5c8ae48>"
      ]
     },
     "metadata": {},
     "output_type": "display_data"
    }
   ],
   "source": [
    "# data is from:\n",
    "# http://college.cengage.com/mathematics/brase/understandable_statistics/7e/students/datasets/mlr/frames/mlr02.html\n",
    "\n",
    "# The data (X1, X2, X3) are for each patient.\n",
    "# X1 = systolic blood pressure //this is the data we want to predict\n",
    "# X2 = age in years\n",
    "# X3 = weight in pounds\n",
    "# X4 = random noise that I've added\n",
    "\n",
    "#from builtins import range\n",
    "import numpy as np\n",
    "import pandas as pd\n",
    "from matplotlib import pyplot as plt\n",
    "%matplotlib inline\n",
    "\n",
    "df = pd.read_excel('linear_regression_class/mlr02_noise.xls')\n",
    "X = df.as_matrix()\n",
    "\n",
    "\n",
    "plt.scatter(X[:,3], X[:,0])\n",
    "plt.xlabel('Noise')\n",
    "plt.ylabel('Blood Pressure')\n",
    "plt.show()\n"
   ]
  },
  {
   "cell_type": "code",
   "execution_count": 3,
   "metadata": {},
   "outputs": [
    {
     "name": "stdout",
     "output_type": "stream",
     "text": [
      "r2 for X2 only:  0.957840720815\n",
      "r2 for X3 only:  0.941995208529\n",
      "r2 for Noise only:  0.0168937886963\n",
      "r2 for both w/o noise: 0.97684710415\n",
      "r2 for all: 0.976945807714\n"
     ]
    }
   ],
   "source": [
    "df['ones'] = 1\n",
    "Y = df['X1']\n",
    "X = df[['X2', 'X3', 'Noise', 'ones']]\n",
    "X2only = df[['X2', 'ones']]\n",
    "X3only = df[['X3', 'ones']]\n",
    "X23only = df[['X2', 'X3', 'ones']]\n",
    "NoiseOnly = df[['Noise', 'ones']]\n",
    "\n",
    "def get_r2(X,Y) : \n",
    "    w = np.linalg.solve(X.T.dot(X), X.T.dot(Y))\n",
    "    Yhat = X.dot(w)\n",
    "    d1 = Y - Yhat\n",
    "    d2 = Y - Y.mean()\n",
    "    r2 = 1 - d1.dot(d1) / d2.dot(d2)\n",
    "    return r2\n",
    "\n",
    "print('r2 for X2 only: ',get_r2(X2only,Y))\n",
    "print('r2 for X3 only: ',get_r2(X3only,Y))\n",
    "print('r2 for Noise only: ',get_r2(NoiseOnly,Y))\n",
    "print('r2 for both w/o noise:', get_r2(X23only, Y))\n",
    "print('r2 for all:', get_r2(X, Y))"
   ]
  },
  {
   "cell_type": "code",
   "execution_count": null,
   "metadata": {
    "collapsed": true
   },
   "outputs": [],
   "source": []
  }
 ],
 "metadata": {
  "kernelspec": {
   "display_name": "Python 3",
   "language": "python",
   "name": "python3"
  },
  "language_info": {
   "codemirror_mode": {
    "name": "ipython",
    "version": 3
   },
   "file_extension": ".py",
   "mimetype": "text/x-python",
   "name": "python",
   "nbconvert_exporter": "python",
   "pygments_lexer": "ipython3",
   "version": "3.6.3"
  }
 },
 "nbformat": 4,
 "nbformat_minor": 2
}
