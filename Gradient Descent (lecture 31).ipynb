{
 "cells": [
  {
   "cell_type": "code",
   "execution_count": 43,
   "metadata": {},
   "outputs": [
    {
     "name": "stdout",
     "output_type": "stream",
     "text": [
      "X: [[ 1.  1.  0.]\n",
      " [ 1.  1.  0.]\n",
      " [ 1.  1.  0.]\n",
      " [ 1.  1.  0.]\n",
      " [ 1.  1.  0.]\n",
      " [ 1.  0.  1.]\n",
      " [ 1.  0.  1.]\n",
      " [ 1.  0.  1.]\n",
      " [ 1.  0.  1.]\n",
      " [ 1.  0.  1.]]\n",
      "Y: [0 0 0 0 0 1 1 1 1 1]\n",
      "w: [-0.54633169 -0.01911635 -0.87442312]\n",
      "xdotw: [-0.56544805 -0.56544805 -0.56544805 -0.56544805 -0.56544805 -1.42075481\n",
      " -1.42075481 -1.42075481 -1.42075481 -1.42075481]\n",
      "delta shape: (10,)\n",
      "ddd: 30.8989268331\n"
     ]
    },
    {
     "data": {
      "image/png": "[encoded data removed]",
      "text/plain": [
       "<matplotlib.figure.Figure at 0xad6ef28>"
      ]
     },
     "metadata": {},
     "output_type": "display_data"
    },
    {
     "name": "stdout",
     "output_type": "stream",
     "text": [
      "final w: [ 0.44906899 -0.44289682  0.54475803]\n"
     ]
    },
    {
     "data": {
      "image/png": "[encoded data removed]",
      "text/plain": [
       "<matplotlib.figure.Figure at 0xb261390>"
      ]
     },
     "metadata": {},
     "output_type": "display_data"
    }
   ],
   "source": [
    "import numpy as np\n",
    "import matplotlib.pyplot as plt\n",
    "%matplotlib inline\n",
    "\n",
    "N = 10 \n",
    "D = 3\n",
    "\n",
    "X = np.zeros((N,D))\n",
    "X[:,0] = 1\n",
    "X[:5,1] = 1\n",
    "X[5:,2] = 1\n",
    "print('X:', X)\n",
    "Y = np.array([0]*5 + [1]*5)\n",
    "print('Y:',Y)\n",
    "\n",
    "# w = np.linalg.solve(X.T.dot(X), X.T.dot(Y)) ==> we can't use it since X.T.dot(X) a singular matrix\n",
    "# sing = X.T.dot(X)\n",
    "# np.linalg.det(sing) ==> the determinant is 0.0\n",
    "\n",
    "# so we're going to use Gradient Descent\n",
    "\n",
    "costs = [] # we're storing the costs so we can show how they drop as we use Gradient Descent\n",
    "# set w ~ N(0,1/D)\n",
    "# For deep learning it's useful to limit the variance of the output when there are multiple layers.\n",
    "# One can show that by limiting the variance of the weights to 1/D, assuming that the inputs have variance 1, \n",
    "# will yield an output of variance 1 also.\n",
    "# https://www.udemy.com/data-science-linear-regression-in-python/learn/v4/questions/2709664\n",
    "\n",
    "w = np.random.randn(D)  / np.sqrt(D) # If X ~ N(0,1), then X*sqrt(var) ~ N(0, var); If X∼N(μ,σ^2), then aX∼N(aμ,a^2σ^2)\n",
    "print('w:', w)\n",
    "learning_rate = 0.001\n",
    "print('xdotw:', X.dot(w))\n",
    "delta = X.dot(w) - Y\n",
    "print('delta shape:',delta.shape)\n",
    "print('ddd:',delta.dot(delta))\n",
    "for t in range(1000) : \n",
    "    Yhat = X.dot(w)\n",
    "    delta = Yhat - Y\n",
    "    w = w - learning_rate * X.T.dot(delta)\n",
    "    mse = delta.dot(delta) / N # mean squre error\n",
    "    costs.append(mse)\n",
    "    \n",
    "plt.plot(costs)\n",
    "plt.show()\n",
    "print('final w:',w)\n",
    "\n",
    "plt.plot(Yhat, label='predictions')\n",
    "plt.plot(Y, label = 'targets')\n",
    "plt.legend()\n",
    "plt.show()"
   ]
  },
  {
   "cell_type": "code",
   "execution_count": null,
   "metadata": {
    "collapsed": true
   },
   "outputs": [],
   "source": []
  }
 ],
 "metadata": {
  "kernelspec": {
   "display_name": "Python 3",
   "language": "python",
   "name": "python3"
  },
  "language_info": {
   "codemirror_mode": {
    "name": "ipython",
    "version": 3
   },
   "file_extension": ".py",
   "mimetype": "text/x-python",
   "name": "python",
   "nbconvert_exporter": "python",
   "pygments_lexer": "ipython3",
   "version": "3.6.3"
  }
 },
 "nbformat": 4,
 "nbformat_minor": 2
}
